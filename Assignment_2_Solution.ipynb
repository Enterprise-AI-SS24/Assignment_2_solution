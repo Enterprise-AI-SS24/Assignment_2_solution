{
 "cells": [
  {
   "cell_type": "markdown",
   "metadata": {},
   "source": [
    "<div class='bar_title'></div>\n",
    "\n",
    "*Enterprise AI*\n",
    "\n",
    "# Assignment 2 - ZenML & Feature Engineering\n",
    "Gunther Gust / Justus Ameling<br>\n",
    "Chair of Enterprise AI\n",
    "\n",
    "Summer Semester 24\n",
    "\n",
    "<img src=\"https://github.com/GuntherGust/tds2_data/blob/main/images/d3.png?raw=true\" style=\"width:20%; float:left;\" />"
   ]
  },
  {
   "cell_type": "markdown",
   "metadata": {},
   "source": [
    "In this assignment we look at ZenML for the first time. ZenML is an open source machine learning lifecycle management tool that aims to simplify the workflow from development to production. It enables data scientists and engineers to create reproducible pipelines that ensure consistent and comparable experiments. With its modular architecture, ZenML supports the integration of different ML tools and frameworks, making it a flexible solution for a wide range of deployment scenarios.\n",
    "\n",
    "Our objective for this assignment is to develop a training pipeline to predict whether it will rain in Perth, Australia, tomorrow. To achieve this, our pipeline will load the necessary data, perform feature engineering, build a model, and evaluate it."
   ]
  },
  {
   "cell_type": "markdown",
   "metadata": {},
   "source": [
    "First of all, before we can start setting up our pipeline, we need to run three commands.\n",
    "- The first one is `!rm -rf .zen'. This command will remove the .zen folder and all its subfolders. So we use this command to start with a fresh zenML repository.\n",
    "- The `!zenml init' command creates this repo for us by creating a folder that contains a YAML file at the beginning.\n",
    "- The last command `!zenml integration install sklearn -y` is used to install the sklearn library with the appropriate version to be used with ZenML.\n",
    "    - ZenML is capable of working with several libraries, and Sklearn is just one of them - <a href=\"https://www.zenml.io/integrations\">see more</a>"
   ]
  },
  {
   "cell_type": "code",
   "execution_count": null,
   "metadata": {},
   "outputs": [],
   "source": [
    "!rm -rf .zen\n",
    "!zenml init\n",
    "!zenml integration install sklearn -y"
   ]
  },
  {
   "cell_type": "markdown",
   "metadata": {},
   "source": [
    "## Data Inspection"
   ]
  },
  {
   "cell_type": "markdown",
   "metadata": {},
   "source": [
    "First of all, we need to understand our dataset. Thus, let us load the  `Weather_Perth.csv` file with the pandas library and apply the three following descriptive measures:\n",
    "- Print the first 5 lines with the head command\n",
    "- Print the dtypes of all columns\n",
    "- Print the number of null values per column"
   ]
  },
  {
   "cell_type": "code",
   "execution_count": 18,
   "metadata": {},
   "outputs": [],
   "source": [
    "import pandas as pd\n",
    "pd.set_option('display.max_columns', None) #This command allows us to inspect all the columns"
   ]
  },
  {
   "cell_type": "code",
   "execution_count": 19,
   "metadata": {},
   "outputs": [
    {
     "data": {
      "text/html": [
       "<div>\n",
       "<style scoped>\n",
       "    .dataframe tbody tr th:only-of-type {\n",
       "        vertical-align: middle;\n",
       "    }\n",
       "\n",
       "    .dataframe tbody tr th {\n",
       "        vertical-align: top;\n",
       "    }\n",
       "\n",
       "    .dataframe thead th {\n",
       "        text-align: right;\n",
       "    }\n",
       "</style>\n",
       "<table border=\"1\" class=\"dataframe\">\n",
       "  <thead>\n",
       "    <tr style=\"text-align: right;\">\n",
       "      <th></th>\n",
       "      <th>Date</th>\n",
       "      <th>MinTemp</th>\n",
       "      <th>MaxTemp</th>\n",
       "      <th>Rainfall</th>\n",
       "      <th>Evaporation</th>\n",
       "      <th>Sunshine</th>\n",
       "      <th>WindGustDir</th>\n",
       "      <th>WindGustSpeed</th>\n",
       "      <th>WindDir9am</th>\n",
       "      <th>WindDir3pm</th>\n",
       "      <th>WindSpeed9am</th>\n",
       "      <th>WindSpeed3pm</th>\n",
       "      <th>Humidity9am</th>\n",
       "      <th>Humidity3pm</th>\n",
       "      <th>Pressure9am</th>\n",
       "      <th>Pressure3pm</th>\n",
       "      <th>Cloud9am</th>\n",
       "      <th>Cloud3pm</th>\n",
       "      <th>Temp9am</th>\n",
       "      <th>Temp3pm</th>\n",
       "      <th>RainTomorrow</th>\n",
       "    </tr>\n",
       "  </thead>\n",
       "  <tbody>\n",
       "    <tr>\n",
       "      <th>0</th>\n",
       "      <td>2008-07-01</td>\n",
       "      <td>2.7</td>\n",
       "      <td>18.8</td>\n",
       "      <td>0.0</td>\n",
       "      <td>0.8</td>\n",
       "      <td>9.1</td>\n",
       "      <td>ENE</td>\n",
       "      <td>20.0</td>\n",
       "      <td>NaN</td>\n",
       "      <td>E</td>\n",
       "      <td>0.0</td>\n",
       "      <td>7.0</td>\n",
       "      <td>97.0</td>\n",
       "      <td>53.0</td>\n",
       "      <td>1027.6</td>\n",
       "      <td>1024.5</td>\n",
       "      <td>2.0</td>\n",
       "      <td>3.0</td>\n",
       "      <td>8.5</td>\n",
       "      <td>18.1</td>\n",
       "      <td>No</td>\n",
       "    </tr>\n",
       "    <tr>\n",
       "      <th>1</th>\n",
       "      <td>2008-07-02</td>\n",
       "      <td>6.4</td>\n",
       "      <td>20.7</td>\n",
       "      <td>0.0</td>\n",
       "      <td>1.8</td>\n",
       "      <td>7.0</td>\n",
       "      <td>NE</td>\n",
       "      <td>22.0</td>\n",
       "      <td>ESE</td>\n",
       "      <td>ENE</td>\n",
       "      <td>6.0</td>\n",
       "      <td>9.0</td>\n",
       "      <td>80.0</td>\n",
       "      <td>39.0</td>\n",
       "      <td>1024.1</td>\n",
       "      <td>1019.0</td>\n",
       "      <td>0.0</td>\n",
       "      <td>6.0</td>\n",
       "      <td>11.1</td>\n",
       "      <td>19.7</td>\n",
       "      <td>No</td>\n",
       "    </tr>\n",
       "    <tr>\n",
       "      <th>2</th>\n",
       "      <td>2008-07-03</td>\n",
       "      <td>6.5</td>\n",
       "      <td>19.9</td>\n",
       "      <td>0.4</td>\n",
       "      <td>2.2</td>\n",
       "      <td>7.3</td>\n",
       "      <td>NE</td>\n",
       "      <td>31.0</td>\n",
       "      <td>NaN</td>\n",
       "      <td>WNW</td>\n",
       "      <td>0.0</td>\n",
       "      <td>4.0</td>\n",
       "      <td>84.0</td>\n",
       "      <td>71.0</td>\n",
       "      <td>1016.8</td>\n",
       "      <td>1015.6</td>\n",
       "      <td>1.0</td>\n",
       "      <td>3.0</td>\n",
       "      <td>12.1</td>\n",
       "      <td>17.7</td>\n",
       "      <td>Yes</td>\n",
       "    </tr>\n",
       "    <tr>\n",
       "      <th>3</th>\n",
       "      <td>2008-07-04</td>\n",
       "      <td>9.5</td>\n",
       "      <td>19.2</td>\n",
       "      <td>1.8</td>\n",
       "      <td>1.2</td>\n",
       "      <td>4.7</td>\n",
       "      <td>W</td>\n",
       "      <td>26.0</td>\n",
       "      <td>NNE</td>\n",
       "      <td>NNW</td>\n",
       "      <td>11.0</td>\n",
       "      <td>6.0</td>\n",
       "      <td>93.0</td>\n",
       "      <td>73.0</td>\n",
       "      <td>1019.3</td>\n",
       "      <td>1018.4</td>\n",
       "      <td>6.0</td>\n",
       "      <td>6.0</td>\n",
       "      <td>13.2</td>\n",
       "      <td>17.7</td>\n",
       "      <td>Yes</td>\n",
       "    </tr>\n",
       "    <tr>\n",
       "      <th>4</th>\n",
       "      <td>2008-07-05</td>\n",
       "      <td>9.5</td>\n",
       "      <td>16.4</td>\n",
       "      <td>1.8</td>\n",
       "      <td>1.4</td>\n",
       "      <td>4.9</td>\n",
       "      <td>WSW</td>\n",
       "      <td>44.0</td>\n",
       "      <td>W</td>\n",
       "      <td>SW</td>\n",
       "      <td>13.0</td>\n",
       "      <td>17.0</td>\n",
       "      <td>69.0</td>\n",
       "      <td>57.0</td>\n",
       "      <td>1020.4</td>\n",
       "      <td>1022.1</td>\n",
       "      <td>7.0</td>\n",
       "      <td>5.0</td>\n",
       "      <td>15.9</td>\n",
       "      <td>16.0</td>\n",
       "      <td>Yes</td>\n",
       "    </tr>\n",
       "  </tbody>\n",
       "</table>\n",
       "</div>"
      ],
      "text/plain": [
       "         Date  MinTemp  MaxTemp  Rainfall  Evaporation  Sunshine WindGustDir  \\\n",
       "0  2008-07-01      2.7     18.8       0.0          0.8       9.1         ENE   \n",
       "1  2008-07-02      6.4     20.7       0.0          1.8       7.0          NE   \n",
       "2  2008-07-03      6.5     19.9       0.4          2.2       7.3          NE   \n",
       "3  2008-07-04      9.5     19.2       1.8          1.2       4.7           W   \n",
       "4  2008-07-05      9.5     16.4       1.8          1.4       4.9         WSW   \n",
       "\n",
       "   WindGustSpeed WindDir9am WindDir3pm  WindSpeed9am  WindSpeed3pm  \\\n",
       "0           20.0        NaN          E           0.0           7.0   \n",
       "1           22.0        ESE        ENE           6.0           9.0   \n",
       "2           31.0        NaN        WNW           0.0           4.0   \n",
       "3           26.0        NNE        NNW          11.0           6.0   \n",
       "4           44.0          W         SW          13.0          17.0   \n",
       "\n",
       "   Humidity9am  Humidity3pm  Pressure9am  Pressure3pm  Cloud9am  Cloud3pm  \\\n",
       "0         97.0         53.0       1027.6       1024.5       2.0       3.0   \n",
       "1         80.0         39.0       1024.1       1019.0       0.0       6.0   \n",
       "2         84.0         71.0       1016.8       1015.6       1.0       3.0   \n",
       "3         93.0         73.0       1019.3       1018.4       6.0       6.0   \n",
       "4         69.0         57.0       1020.4       1022.1       7.0       5.0   \n",
       "\n",
       "   Temp9am  Temp3pm RainTomorrow  \n",
       "0      8.5     18.1           No  \n",
       "1     11.1     19.7           No  \n",
       "2     12.1     17.7          Yes  \n",
       "3     13.2     17.7          Yes  \n",
       "4     15.9     16.0          Yes  "
      ]
     },
     "execution_count": 19,
     "metadata": {},
     "output_type": "execute_result"
    }
   ],
   "source": [
    "data = pd.read_csv(\"Weather_Perth.csv\")\n",
    "data.head()"
   ]
  },
  {
   "cell_type": "code",
   "execution_count": 20,
   "metadata": {},
   "outputs": [
    {
     "data": {
      "text/plain": [
       "Date              object\n",
       "MinTemp          float64\n",
       "MaxTemp          float64\n",
       "Rainfall         float64\n",
       "Evaporation      float64\n",
       "Sunshine         float64\n",
       "WindGustDir       object\n",
       "WindGustSpeed    float64\n",
       "WindDir9am        object\n",
       "WindDir3pm        object\n",
       "WindSpeed9am     float64\n",
       "WindSpeed3pm     float64\n",
       "Humidity9am      float64\n",
       "Humidity3pm      float64\n",
       "Pressure9am      float64\n",
       "Pressure3pm      float64\n",
       "Cloud9am         float64\n",
       "Cloud3pm         float64\n",
       "Temp9am          float64\n",
       "Temp3pm          float64\n",
       "RainTomorrow      object\n",
       "dtype: object"
      ]
     },
     "execution_count": 20,
     "metadata": {},
     "output_type": "execute_result"
    }
   ],
   "source": [
    "data.dtypes"
   ]
  },
  {
   "cell_type": "code",
   "execution_count": 21,
   "metadata": {},
   "outputs": [
    {
     "data": {
      "text/plain": [
       "Date               0\n",
       "MinTemp            0\n",
       "MaxTemp            1\n",
       "Rainfall           0\n",
       "Evaporation        1\n",
       "Sunshine           5\n",
       "WindGustDir        5\n",
       "WindGustSpeed      5\n",
       "WindDir9am       134\n",
       "WindDir3pm         7\n",
       "WindSpeed9am       0\n",
       "WindSpeed3pm       1\n",
       "Humidity9am        9\n",
       "Humidity3pm        8\n",
       "Pressure9am        1\n",
       "Pressure3pm        1\n",
       "Cloud9am           2\n",
       "Cloud3pm           4\n",
       "Temp9am            0\n",
       "Temp3pm            1\n",
       "RainTomorrow       0\n",
       "dtype: int64"
      ]
     },
     "execution_count": 21,
     "metadata": {},
     "output_type": "execute_result"
    }
   ],
   "source": [
    "data.isna().sum()"
   ]
  },
  {
   "cell_type": "markdown",
   "metadata": {},
   "source": [
    "## ZenML"
   ]
  },
  {
   "cell_type": "markdown",
   "metadata": {},
   "source": [
    "Now that we have a good understanding of our data, we can begin developing our Pipeline. A ZenML **pipeline** comprises of multiple **steps** that are necessary for a successful ML process. Each step in the pipeline represents a different task, such as data loading, feature engineering, or model tuning. We can define these steps by writing functions that adhere to the framework's requirements. Once we've constructed all of the steps, we can combine them into a single Python function that represents our pipeline.\n",
    "\n",
    "Let's begin by importing some more packages, and then let us look at the first step of our future pipeline in more detail."
   ]
  },
  {
   "cell_type": "code",
   "execution_count": 22,
   "metadata": {},
   "outputs": [],
   "source": [
    "from zenml import pipeline, step\n",
    "from typing_extensions import Annotated\n",
    "from typing import Tuple\n",
    "from sklearn.base import ClassifierMixin\n",
    "from sklearn.model_selection import train_test_split\n",
    "from sklearn.impute import SimpleImputer\n",
    "from sklearn.preprocessing import OneHotEncoder, LabelEncoder, MinMaxScaler\n",
    "from sklearn.linear_model import LogisticRegression"
   ]
  },
  {
   "cell_type": "markdown",
   "metadata": {},
   "source": [
    "Our first step is the `loading_data` function, which loads our CSV file using the panda's library. To understand the concept of ZenML better, we will drill down all the parts from top to bottom.\n",
    "\n",
    "1. *Decorator*: `@step(enable_cache=False)`\n",
    "    - The decorator will wrap our function in the background into another function and thus transform it into a step.\n",
    "    - Steps have some additional functionality, and one of them is caching, which allows us to skip the execution of a function when no new information is available.\n",
    "        - For this function, we have turned off caching since it cannot prove if external objects have changed <a href=\"https://docs.zenml.io/user-guide/starter-guide/cache-previous-executions\"> see more</a>\n",
    "2. *Function Header*: `def loading_data(filename: str) -> Annotated[pd.DataFrame,\"data_loader\"]:`\n",
    "    - The next interesting thing about ZenML is that it stores all inputs and outputs of our steps as <a href=\"https://docs.zenml.io/getting-started/core-concepts#artifacts\">Artifacts</a>. For this purpose, ZenML wants to know the type of arguments - <a href=\"https://docs.python.org/3/library/typing.html\"> see more</a>\n",
    "    - Our input parameter `filename` has the type String (str) \n",
    "    - Our return value of the function is a `pd.DataFrame`, and we have additionally given it the name `input_data` so that we can retrieve it later faster.\n",
    "3. *Function Body*: \n",
    "    - We use the already-known pandas function to retrieve our CSV file. After that, we return the constructed DataFrame."
   ]
  },
  {
   "cell_type": "code",
   "execution_count": 23,
   "metadata": {},
   "outputs": [],
   "source": [
    "@step(enable_cache=False)\n",
    "def loading_data(filename: str) -> Annotated[pd.DataFrame,\"input_data\"]:\n",
    "    \"\"\" Loads a CV File and transforms it to a Pandas DataFrame\n",
    "    \"\"\"\n",
    "    data = pd.read_csv(filename,index_col=\"Date\")\n",
    "    return data"
   ]
  },
  {
   "cell_type": "markdown",
   "metadata": {},
   "source": [
    "Our next step will use the loaded DataFrame and an attribute `label` to split our data into a train and test set. Therefore, we can use the `train_test_split` method from the sklearn library. Additionally, since our data is sorted by date, we want the last 20% of the data as our test set. To avoid shuffling the data, which is a default option for the train_test_split method, we must pass the argument `shuffle=False` with the function. Finally, the function will return the four variables, which are described again in the function header for the step function."
   ]
  },
  {
   "cell_type": "code",
   "execution_count": 24,
   "metadata": {},
   "outputs": [],
   "source": [
    "@step\n",
    "def split_data(dataset:pd.DataFrame, label: str) -> Tuple[\n",
    "    Annotated[pd.DataFrame,\"X_train\"],\n",
    "    Annotated[pd.DataFrame,\"X_test\"],\n",
    "    Annotated[pd.Series,\"y_train\"],\n",
    "    Annotated[pd.Series,\"y_test\"]]:\n",
    "    \"\"\"\n",
    "    Splits a dataset into training and testing sets.\n",
    "\n",
    "    This function takes a pandas DataFrame and a specified label column, then\n",
    "    divides the data into training and testing subsets. The splitting process does\n",
    "    not shuffle the data, which preserves the original ordering in the training\n",
    "    and testing sets.\n",
    "    \"\"\"\n",
    "    X = dataset.drop(label,axis=1)\n",
    "    Y = dataset[label]\n",
    "    X_train,X_test,y_train,y_test = train_test_split(X,Y,test_size=0.2,shuffle=False)\n",
    "    return X_train,X_test,y_train,y_test"
   ]
  },
  {
   "cell_type": "markdown",
   "metadata": {},
   "source": [
    "### Feature Engineering"
   ]
  },
  {
   "cell_type": "markdown",
   "metadata": {},
   "source": [
    "As we have seen in the beginning, our dataset contains null values. Thus, we want to define a step that eliminates all of them. Our Step function should, therefore, impute all numerical values with a simple median strategy and all non-numerical values with a most frequent strategy. Both Imputers should be applied on the train and test set, which are finally returned. Hint: Have a look at assignment one again!"
   ]
  },
  {
   "cell_type": "code",
   "execution_count": 25,
   "metadata": {},
   "outputs": [],
   "source": [
    "@step\n",
    "def impute_missing_values(X_train:pd.DataFrame,X_test:pd.DataFrame) -> Tuple[Annotated[pd.DataFrame,\"X_train_imputed\"],Annotated[pd.DataFrame,\"X_test_imputed\"]]:\n",
    "    \"\"\"\n",
    "    Imputes missing values in training and testing datasets.\n",
    "\n",
    "    This function separately imputes missing values in categorical and numerical\n",
    "    columns of the provided dataframes. For numerical columns, the median of the\n",
    "    column is used to replace missing values. For categorical columns, the most frequent\n",
    "    value in the column is used as the replacement.\n",
    "    \"\"\"\n",
    "    categorical_imputer = SimpleImputer(strategy=\"most_frequent\")\n",
    "    numerical_imputer = SimpleImputer(strategy=\"median\")\n",
    "    categorical_columns = X_train.select_dtypes(include=\"object\").columns\n",
    "    numerical_columns = X_train.select_dtypes(exclude=\"object\").columns\n",
    "\n",
    "    X_train[numerical_columns] = pd.DataFrame(\n",
    "    numerical_imputer.fit_transform(X_train[numerical_columns]),index=X_train.index, columns=numerical_columns\n",
    "    )\n",
    "\n",
    "    X_test[numerical_columns] = pd.DataFrame(\n",
    "    numerical_imputer.transform(X_test[numerical_columns]),index=X_test.index, columns=numerical_columns\n",
    "    )\n",
    "\n",
    "    X_train[categorical_columns] = pd.DataFrame(\n",
    "    categorical_imputer.fit_transform(X_train[categorical_columns]),index=X_train.index, columns=categorical_columns\n",
    "    )\n",
    "\n",
    "    X_test[categorical_columns] = pd.DataFrame(\n",
    "    categorical_imputer.transform(X_test[categorical_columns]),index=X_test.index, columns=categorical_columns\n",
    "    )\n",
    "    return X_train,X_test "
   ]
  },
  {
   "cell_type": "markdown",
   "metadata": {},
   "source": [
    "The next feature engineering step is the encoding of the categorical variables. We want to create a step that applies one-hot encoding on all categorical variables on the train and test set to handle our categorical values. Finally, the function must return the train and test set, replacing the original categorical columns with the one-hot-encoded values."
   ]
  },
  {
   "cell_type": "code",
   "execution_count": 26,
   "metadata": {},
   "outputs": [],
   "source": [
    "@step\n",
    "def encode_categorical_values(X_train:pd.DataFrame,X_test:pd.DataFrame) -> Tuple[Annotated[pd.DataFrame,\"X_train_encoded\"],Annotated[pd.DataFrame,\"X_test_encoded\"]]:\n",
    "    \"\"\"\n",
    "    Encodes categorical columns in the training and testing datasets using one-hot encoding.\n",
    "\n",
    "    This function identifies all columns with data type 'object' in the training dataset as\n",
    "    categorical and applies one-hot encoding to these columns. The one-hot encoded columns\n",
    "    replace the original categorical columns in both datasets. The encoder is fitted only on\n",
    "    the training data to avoid data leakage into the testing set.\n",
    "    \"\"\"\n",
    "    one_hot_encoder = OneHotEncoder(sparse_output=False)\n",
    "    categorical_columns = X_train.select_dtypes(include=\"object\").columns\n",
    "    encoded_values_train = pd.DataFrame(one_hot_encoder.fit_transform(X_train[categorical_columns]),index=X_train.index,columns=one_hot_encoder.get_feature_names_out())\n",
    "\n",
    "    encoded_values_test = pd.DataFrame(one_hot_encoder.transform(X_test[categorical_columns]),index=X_test.index,columns=one_hot_encoder.get_feature_names_out())\n",
    "    print(encoded_values_test)\n",
    "    X_train.drop(categorical_columns, axis=1, inplace=True)\n",
    "    X_train = pd.concat([X_train, encoded_values_train], axis=1)\n",
    "\n",
    "    X_test.drop(categorical_columns, axis=1, inplace=True)\n",
    "    X_test = pd.concat([X_test, encoded_values_test], axis=1)\n",
    "    return X_train, X_test"
   ]
  },
  {
   "cell_type": "markdown",
   "metadata": {},
   "source": [
    "The next feature engineering step we want to conduct in our pipeline is Label encoding. We are using LabelEncoding since our target Variable `RainTomorrow` is presented by text. Thus, LabelEncoding will transform the 'No' and 'Yes values to 0 and 1."
   ]
  },
  {
   "cell_type": "code",
   "execution_count": 27,
   "metadata": {},
   "outputs": [],
   "source": [
    "@step\n",
    "def label_encoding(y_train:pd.Series,y_test:pd.Series) -> Tuple[Annotated[pd.Series,\"y_train_encoded\"],Annotated[pd.Series,\"y_test_encoded\"]]:\n",
    "    \"\"\"\n",
    "    Applies label encoding to the target variable for both training and testing datasets.\n",
    "\n",
    "    This function converts target labels into a numerical format using label encoding.\n",
    "    The encoder is fitted on the training data to ensure consistency in encoding between\n",
    "    the training and testing sets, preventing data leakage.\n",
    "    \"\"\"\n",
    "    encoder = LabelEncoder()\n",
    "    y_train = pd.Series(encoder.fit_transform(y_train))\n",
    "    y_test = pd.Series(encoder.transform(y_test))\n",
    "    return y_train, y_test"
   ]
  },
  {
   "cell_type": "markdown",
   "metadata": {},
   "source": [
    "The last feature engineering step we are applying is the scaling of the values. Therefore, we are using a `MinMaxScaler` that scales the values between 1 and 0. The scaling method is applied again on both datasets, which are finally also returned as a DataFrame."
   ]
  },
  {
   "cell_type": "code",
   "execution_count": 28,
   "metadata": {},
   "outputs": [],
   "source": [
    "@step \n",
    "def scale_values(X_train:pd.DataFrame,X_test:pd.DataFrame) -> Tuple[Annotated[pd.DataFrame,\"X_train_scaled\"],Annotated[pd.DataFrame,\"X_test_scaled\"]]:\n",
    "    \"\"\"\n",
    "    Scales numerical features to a range between 0 and 1 using MinMax scaling.\n",
    "\n",
    "    This function applies MinMaxScaler to scale the feature values in both the training\n",
    "    and testing datasets. The scaler is fitted only on the training data to prevent data leakage from the test set.\n",
    "    \"\"\"\n",
    "    scaler = MinMaxScaler()\n",
    "    X_train = pd.DataFrame(scaler.fit_transform(X_train),index=X_train.index, columns=X_train.columns)\n",
    "    X_test = pd.DataFrame(scaler.transform(X_test),index=X_test.index, columns=X_test.columns)\n",
    "\n",
    "    return X_train,X_test"
   ]
  },
  {
   "cell_type": "markdown",
   "metadata": {},
   "source": [
    "## Modeling and Evaluation"
   ]
  },
  {
   "cell_type": "markdown",
   "metadata": {},
   "source": [
    "Now that we have prepared all the necessary steps to create a clean and usable dataset, we can develop and evaluate our machine-learning model. Hence, two final steps we need to define are left over before we stack everything together to execute our pipeline.\n",
    "\n",
    "To train our model, we define the `model_trainer` step. As input, it receives the `X_train` features and the labels given by `y_train`. Then, a `LogisticRegression` is created inside the step and fitted to the training data. Lastly, the step returns as an artifact the trained model."
   ]
  },
  {
   "cell_type": "code",
   "execution_count": 29,
   "metadata": {},
   "outputs": [],
   "source": [
    "@step\n",
    "def model_trainer(X_train: pd.DataFrame, y_train: pd.Series)-> Tuple[Annotated[ClassifierMixin,\"Model\"],Annotated[float,\"In_Sample_Accuracy\"]]:\n",
    "    \"\"\"\n",
    "    Trains a logistic regression model using the provided training data and computes the in-sample accuracy.\n",
    "    \"\"\"\n",
    "    model = LogisticRegression()\n",
    "    model.fit(X_train,y_train)\n",
    "    in_sample_score = model.score(X_train,y_train)\n",
    "    return model,in_sample_score"
   ]
  },
  {
   "cell_type": "markdown",
   "metadata": {},
   "source": [
    "Finally, we need to evaluate the performance of our model. For this performance test, we are creating the last step for our pipeline. This step has three input arguments: The model that our `model_trainer` returns, the cleaned features of the test set, and the corresponding labels. Overall, the `evaluate_model` step should calculate the accuracy of our model on the test dataset and return the metric."
   ]
  },
  {
   "cell_type": "code",
   "execution_count": 30,
   "metadata": {},
   "outputs": [],
   "source": [
    "@step\n",
    "def evaluate_model(model:ClassifierMixin,X_test:pd.DataFrame,y_test:pd.DataFrame) -> Annotated[float,\"Accuracy\"]:\n",
    "    \"\"\"\n",
    "    Evaluates the accuracy of a trained model using the testing dataset.\n",
    "    \"\"\"\n",
    "    score = model.score(X_test,y_test)\n",
    "    return score"
   ]
  },
  {
   "cell_type": "markdown",
   "metadata": {},
   "source": [
    "### Pipeline\n",
    "\n",
    "Finally, we have defined all the steps we need to train our model. In ZenML, we can now stack these steps together in one function to define our pipeline. To achieve this, we can simply define a new function, such as `training_pipeline()`, with a decorator `@pipeline` above. Thus, ZenML knows that this function represents our pipeline. Inside this function, we need to call all of our predefined steps, which will receive the returns of the previous steps as their input. \n",
    "For example, our `loading_data()` step returns the dataset, which then will be the input to our next step, the `split_data` step."
   ]
  },
  {
   "cell_type": "code",
   "execution_count": 37,
   "metadata": {},
   "outputs": [],
   "source": [
    "@pipeline\n",
    "def training_pipeline():\n",
    "    \"\"\"\n",
    "    Executes a full training pipeline on weather data to predict rain tomorrow.\n",
    "    \"\"\"\n",
    "    dataset = loading_data(\"Weather_Perth.csv\")\n",
    "    X_train,X_test,y_train,y_test = split_data(dataset,\"RainTomorrow\")\n",
    "    X_train,X_test = impute_missing_values(X_train,X_test)\n",
    "    X_train,X_test = encode_categorical_values(X_train,X_test)\n",
    "    X_train,X_test = scale_values(X_train,X_test)\n",
    "    y_train,y_test = label_encoding(y_train,y_test)\n",
    "    model, in_sample_score = model_trainer(X_train,y_train)\n",
    "    score = evaluate_model(model,X_test,y_test)"
   ]
  },
  {
   "cell_type": "markdown",
   "metadata": {},
   "source": [
    "Let us execute our pipeline by calling our `training_pipeline()` function."
   ]
  },
  {
   "cell_type": "code",
   "execution_count": null,
   "metadata": {},
   "outputs": [],
   "source": [
    "training_pipeline()"
   ]
  },
  {
   "cell_type": "markdown",
   "metadata": {},
   "source": [
    "In the beginning, we explained that ZenML has the advantage of storing all the artifacts of our run. So, let us retrieve one of these artifacts, our test accuracy. To do so, we need to conduct the following steps:\n",
    "- First, we need to import `from zenml.client` the Pyhton `Client`\n",
    "- Second, we call the `get_artifact_version()` method on the Client object and store the responded artifact into a variable. As a parameter, we can pass the Artifact Name that we have defined in our step above. For example, to retrieve the test accuracy from the `evaluate_model()` function, we need to pass \"Accuracy\".\n",
    "    - This method expects an artifact name, which is, in our case, the name that we have defined with the return type for our evaluation score. It is \"Accuracy\" from the `evaluate_model` step.\n",
    "- Third, since we want to have the artifact of the last run, we need to call `Client().get_artifact_version()`, which expects as a parameter the artifact ID that can be received by passing the latest_version_id attribute from the artifact object.\n",
    "- Finally, to receive the value, we call the `load()` function on the return value of step three."
   ]
  },
  {
   "cell_type": "markdown",
   "metadata": {},
   "source": [
    "In the beginning, we explained that ZenML has the advantage of storing all the artifacts of our run. So, let us retrieve one of these artifacts, our test accuracy. To do so, we need to conduct the following steps:\n",
    "- First, we need to import `from zenml.client` the Pyhton `Client`\n",
    "- Second, we call the `get_artifact_version()` method on the Client object and store the artifact into a variable.\n",
    "    - ZenML stores all artifacts with a specific version ID; however, when we only pass the artifact name, we will receive the latest artifact as our response.\n",
    "- Finally, to receive the value, we call the `load()` function on the return value of step three."
   ]
  },
  {
   "cell_type": "code",
   "execution_count": null,
   "metadata": {},
   "outputs": [],
   "source": [
    "from zenml.client import Client\n",
    "artifact = Client().get_artifact_version(\"Accuracy\")\n",
    "artifact.load()"
   ]
  },
  {
   "cell_type": "markdown",
   "metadata": {},
   "source": [
    "Now, retrieve the latest artifact of the in-sample score and compare it to the out-of-sample score."
   ]
  },
  {
   "cell_type": "code",
   "execution_count": null,
   "metadata": {},
   "outputs": [],
   "source": [
    "artifact = Client().get_artifact_version(\"In_Sample_Accuracy\")\n",
    "artifact.load()"
   ]
  },
  {
   "cell_type": "markdown",
   "metadata": {},
   "source": [
    "### ZenML Dashboard"
   ]
  },
  {
   "cell_type": "markdown",
   "metadata": {},
   "source": [
    "The last feature of ZenML we want to look at in this assignment is the Dashboard function. ZenML provides us, out of the box, a visualization of our pipelines and artifacts for every run we conducted. To use the dashboard, we can simply run `!zenml up` . Start the dashboard now and take a look at your pipeline. (Hint: you do not need to enter an email address if you do not want to receive news)"
   ]
  },
  {
   "cell_type": "code",
   "execution_count": null,
   "metadata": {},
   "outputs": [],
   "source": [
    "!zenml up"
   ]
  }
 ],
 "metadata": {
  "kernelspec": {
   "display_name": "Python 3",
   "language": "python",
   "name": "python3"
  },
  "language_info": {
   "codemirror_mode": {
    "name": "ipython",
    "version": 3
   },
   "file_extension": ".py",
   "mimetype": "text/x-python",
   "name": "python",
   "nbconvert_exporter": "python",
   "pygments_lexer": "ipython3",
   "version": "3.11.4"
  }
 },
 "nbformat": 4,
 "nbformat_minor": 2
}
